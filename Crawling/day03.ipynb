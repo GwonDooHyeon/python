{
 "cells": [
  {
   "cell_type": "code",
   "execution_count": 9,
   "metadata": {},
   "outputs": [
    {
     "data": {
      "text/plain": [
       "'61,600'"
      ]
     },
     "execution_count": 9,
     "metadata": {},
     "output_type": "execute_result"
    }
   ],
   "source": [
    "from selenium import webdriver        # 웹 브라우저 컨트롤 (크롬)\n",
    "from bs4 import BeautifulSoup as bs   # 데이터 분석을 용이하게 정제\n",
    "import pandas as pd                   # 데이터 분석 관련 모듈\n",
    "from pprint import pprint \n",
    "import requests # 웹 페이지 읽어오기\n",
    "\n",
    "url = 'https://finance.naver.com/item/main.nhn?code=005930'\n",
    "\n",
    "txt = requests.get(url)\n",
    "html = bs(txt.text)\n",
    "\n",
    "html.select('em.no_up')\n",
    "html.select('em.no_up > .blind')[0].text\n",
    "\n"
   ]
  },
  {
   "cell_type": "code",
   "execution_count": 21,
   "metadata": {},
   "outputs": [
    {
     "data": {
      "text/html": [
       "<div>\n",
       "<style scoped>\n",
       "    .dataframe tbody tr th:only-of-type {\n",
       "        vertical-align: middle;\n",
       "    }\n",
       "\n",
       "    .dataframe tbody tr th {\n",
       "        vertical-align: top;\n",
       "    }\n",
       "\n",
       "    .dataframe thead th {\n",
       "        text-align: right;\n",
       "    }\n",
       "</style>\n",
       "<table border=\"1\" class=\"dataframe\">\n",
       "  <thead>\n",
       "    <tr style=\"text-align: right;\">\n",
       "      <th></th>\n",
       "      <th>시가</th>\n",
       "      <th>고가</th>\n",
       "      <th>저가</th>\n",
       "      <th>종가</th>\n",
       "      <th>거래량</th>\n",
       "      <th>거래대금</th>\n",
       "      <th>등락률</th>\n",
       "    </tr>\n",
       "    <tr>\n",
       "      <th>날짜</th>\n",
       "      <th></th>\n",
       "      <th></th>\n",
       "      <th></th>\n",
       "      <th></th>\n",
       "      <th></th>\n",
       "      <th></th>\n",
       "      <th></th>\n",
       "    </tr>\n",
       "  </thead>\n",
       "  <tbody>\n",
       "    <tr>\n",
       "      <th>2023-02-01</th>\n",
       "      <td>62600</td>\n",
       "      <td>62700</td>\n",
       "      <td>61000</td>\n",
       "      <td>61800</td>\n",
       "      <td>18570133</td>\n",
       "      <td>1145781815984</td>\n",
       "      <td>1.31</td>\n",
       "    </tr>\n",
       "  </tbody>\n",
       "</table>\n",
       "</div>"
      ],
      "text/plain": [
       "               시가     고가     저가     종가       거래량           거래대금   등락률\n",
       "날짜                                                                   \n",
       "2023-02-01  62600  62700  61000  61800  18570133  1145781815984  1.31"
      ]
     },
     "execution_count": 21,
     "metadata": {},
     "output_type": "execute_result"
    }
   ],
   "source": [
    "# !pip install pykrx # 주가 조회 모듈\n",
    "\n",
    "from pykrx import stock\n",
    "stock.get_market_ohlcv('20230201','20230201','005930')"
   ]
  },
  {
   "cell_type": "code",
   "execution_count": 25,
   "metadata": {},
   "outputs": [
    {
     "name": "stdout",
     "output_type": "stream",
     "text": [
      "[*********************100%***********************]  1 of 1 completed\n"
     ]
    },
    {
     "data": {
      "text/html": [
       "<div>\n",
       "<style scoped>\n",
       "    .dataframe tbody tr th:only-of-type {\n",
       "        vertical-align: middle;\n",
       "    }\n",
       "\n",
       "    .dataframe tbody tr th {\n",
       "        vertical-align: top;\n",
       "    }\n",
       "\n",
       "    .dataframe thead th {\n",
       "        text-align: right;\n",
       "    }\n",
       "</style>\n",
       "<table border=\"1\" class=\"dataframe\">\n",
       "  <thead>\n",
       "    <tr style=\"text-align: right;\">\n",
       "      <th></th>\n",
       "      <th>Open</th>\n",
       "      <th>High</th>\n",
       "      <th>Low</th>\n",
       "      <th>Close</th>\n",
       "      <th>Adj Close</th>\n",
       "      <th>Volume</th>\n",
       "    </tr>\n",
       "    <tr>\n",
       "      <th>Date</th>\n",
       "      <th></th>\n",
       "      <th></th>\n",
       "      <th></th>\n",
       "      <th></th>\n",
       "      <th></th>\n",
       "      <th></th>\n",
       "    </tr>\n",
       "  </thead>\n",
       "  <tbody>\n",
       "    <tr>\n",
       "      <th>2023-02-28</th>\n",
       "      <td>147.050003</td>\n",
       "      <td>149.080002</td>\n",
       "      <td>146.830002</td>\n",
       "      <td>147.410004</td>\n",
       "      <td>147.410004</td>\n",
       "      <td>50547000</td>\n",
       "    </tr>\n",
       "    <tr>\n",
       "      <th>2023-03-01</th>\n",
       "      <td>146.830002</td>\n",
       "      <td>147.228500</td>\n",
       "      <td>145.009995</td>\n",
       "      <td>145.309998</td>\n",
       "      <td>145.309998</td>\n",
       "      <td>51688609</td>\n",
       "    </tr>\n",
       "  </tbody>\n",
       "</table>\n",
       "</div>"
      ],
      "text/plain": [
       "                  Open        High         Low       Close   Adj Close  \\\n",
       "Date                                                                     \n",
       "2023-02-28  147.050003  149.080002  146.830002  147.410004  147.410004   \n",
       "2023-03-01  146.830002  147.228500  145.009995  145.309998  145.309998   \n",
       "\n",
       "              Volume  \n",
       "Date                  \n",
       "2023-02-28  50547000  \n",
       "2023-03-01  51688609  "
      ]
     },
     "execution_count": 25,
     "metadata": {},
     "output_type": "execute_result"
    }
   ],
   "source": [
    "# !pip install yfinance\n",
    "\n",
    "import yfinance as yf\n",
    "yf.download('AAPL', start = '2023-02-28')"
   ]
  },
  {
   "cell_type": "code",
   "execution_count": 7,
   "metadata": {},
   "outputs": [
    {
     "name": "stderr",
     "output_type": "stream",
     "text": [
      "C:\\Users\\두현\\AppData\\Local\\Temp\\ipykernel_20952\\3815265396.py:7: DeprecationWarning: executable_path has been deprecated, please pass in a Service object\n",
      "  driver = webdriver.Chrome('chromedriver.exe')  # 버전 주의\n"
     ]
    },
    {
     "data": {
      "text/plain": [
       "'31,132,000'"
      ]
     },
     "execution_count": 7,
     "metadata": {},
     "output_type": "execute_result"
    }
   ],
   "source": [
    "from selenium import webdriver        # 웹 브라우저 컨트롤 (크롬)\n",
    "from bs4 import BeautifulSoup as bs   # 데이터 분석을 용이하게 정제\n",
    "import pandas as pd                   # 데이터 분석 관련 모듈\n",
    "from pprint import pprint \n",
    "import time\n",
    "\n",
    "driver = webdriver.Chrome('chromedriver.exe')  # 버전 주의\n",
    "url = 'https://www.bithumb.com/trade/order/BTC_KRW/'\n",
    "driver.get(url)\n",
    "\n",
    "txt = driver.page_source      # 이때 읽어온 데이터는 그냥 글자\n",
    "html = bs(txt)\n",
    "\n",
    "html.select('.current_price > .color_blue')[0].text\n"
   ]
  },
  {
   "cell_type": "code",
   "execution_count": 13,
   "metadata": {},
   "outputs": [
    {
     "data": {
      "text/plain": [
       "['BTC',\n",
       " 'ETH',\n",
       " 'ETC',\n",
       " 'XRP',\n",
       " 'BCH',\n",
       " 'QTUM',\n",
       " 'BTG',\n",
       " 'EOS',\n",
       " 'ICX',\n",
       " 'TRX',\n",
       " 'ELF',\n",
       " 'OMG',\n",
       " 'KNC',\n",
       " 'GLM',\n",
       " 'ZIL',\n",
       " 'WAXP',\n",
       " 'POWR',\n",
       " 'LRC',\n",
       " 'STEEM',\n",
       " 'STRAX',\n",
       " 'ZRX',\n",
       " 'REP',\n",
       " 'SNT',\n",
       " 'ADA',\n",
       " 'CTXC',\n",
       " 'BAT',\n",
       " 'THETA',\n",
       " 'LOOM',\n",
       " 'WAVES',\n",
       " 'LINK',\n",
       " 'ENJ',\n",
       " 'VET',\n",
       " 'MTL',\n",
       " 'IOST',\n",
       " 'QKC',\n",
       " 'ATOLO',\n",
       " 'AMO',\n",
       " 'BSV',\n",
       " 'ORBS',\n",
       " 'TFUEL',\n",
       " 'VALOR',\n",
       " 'CON',\n",
       " 'ANKR',\n",
       " 'MIX',\n",
       " 'CRO',\n",
       " 'FX',\n",
       " 'CHR',\n",
       " 'MBL',\n",
       " 'MXC',\n",
       " 'FCT2',\n",
       " 'TRV',\n",
       " 'WOM',\n",
       " 'SOC',\n",
       " 'BOA',\n",
       " 'MEV',\n",
       " 'SXP',\n",
       " 'COS',\n",
       " 'EL',\n",
       " 'BASIC',\n",
       " 'HIVE',\n",
       " 'XPR',\n",
       " 'VRA',\n",
       " 'FIT',\n",
       " 'EGG',\n",
       " 'BORA',\n",
       " 'ARPA',\n",
       " 'CTC',\n",
       " 'APM',\n",
       " 'CKB',\n",
       " 'AERGO',\n",
       " 'CENNZ',\n",
       " 'EVZ',\n",
       " 'SRM',\n",
       " 'QTCON',\n",
       " 'UNI',\n",
       " 'YFI',\n",
       " 'UMA',\n",
       " 'AAVE',\n",
       " 'COMP',\n",
       " 'REN',\n",
       " 'BAL',\n",
       " 'RSR',\n",
       " 'NMR',\n",
       " 'RLC',\n",
       " 'UOS',\n",
       " 'SAND',\n",
       " 'GOM2',\n",
       " 'BEL',\n",
       " 'OBSR',\n",
       " 'ORC',\n",
       " 'POLA',\n",
       " 'ADP',\n",
       " 'DVI',\n",
       " 'GHX',\n",
       " 'MVC',\n",
       " 'BLY',\n",
       " 'WOZX',\n",
       " 'ANV',\n",
       " 'GRT',\n",
       " 'BIOT',\n",
       " 'XNO',\n",
       " 'SNX',\n",
       " 'SOFI',\n",
       " 'COLA',\n",
       " 'OXT',\n",
       " 'LINA',\n",
       " 'MAP',\n",
       " 'AQT',\n",
       " 'PLA',\n",
       " 'WIKEN',\n",
       " 'CTSI',\n",
       " 'MANA',\n",
       " 'LPT',\n",
       " 'MKR',\n",
       " 'SUSHI',\n",
       " 'ASM',\n",
       " 'PUNDIX',\n",
       " 'CELR',\n",
       " 'ARW',\n",
       " 'FRONT',\n",
       " 'RLY',\n",
       " 'OCEAN',\n",
       " 'BFC',\n",
       " 'ALICE',\n",
       " 'OGN',\n",
       " 'COTI',\n",
       " 'CAKE',\n",
       " 'BNT',\n",
       " 'XVS',\n",
       " 'SWAP',\n",
       " 'CHZ',\n",
       " 'AXS',\n",
       " 'DAO',\n",
       " 'SIX',\n",
       " 'DAI',\n",
       " 'SHIB',\n",
       " 'MATIC',\n",
       " 'WOO',\n",
       " 'ACH',\n",
       " 'VELO',\n",
       " 'XLM',\n",
       " 'WICC',\n",
       " 'ONT',\n",
       " 'META',\n",
       " 'KLAY',\n",
       " 'ONG',\n",
       " 'ALGO',\n",
       " 'JST',\n",
       " 'XTZ',\n",
       " 'MLK',\n",
       " 'DOT',\n",
       " 'ATOM',\n",
       " 'SSX',\n",
       " 'TEMCO',\n",
       " 'HIBS',\n",
       " 'DOGE',\n",
       " 'KSM',\n",
       " 'CTK',\n",
       " 'XYM',\n",
       " 'BNB',\n",
       " 'NFT',\n",
       " 'SUN',\n",
       " 'XEC',\n",
       " 'PCI',\n",
       " 'SOL',\n",
       " 'LN',\n",
       " 'EGLD',\n",
       " 'GO',\n",
       " 'DFA',\n",
       " 'C98',\n",
       " 'MED',\n",
       " '1INCH',\n",
       " 'BOBA',\n",
       " 'GALA',\n",
       " 'BTT',\n",
       " 'EFI',\n",
       " 'JASMY',\n",
       " 'TITAN',\n",
       " 'REQ',\n",
       " 'CSPR',\n",
       " 'AVAX',\n",
       " 'TDROP',\n",
       " 'NPT',\n",
       " 'REI',\n",
       " 'T',\n",
       " 'MBX',\n",
       " 'GMT',\n",
       " 'TAVA',\n",
       " 'DAR',\n",
       " 'ALT',\n",
       " 'XCN',\n",
       " 'GXA',\n",
       " 'AZIT',\n",
       " 'FLR',\n",
       " 'SFP',\n",
       " 'FITFI',\n",
       " 'STAT',\n",
       " 'CRTS',\n",
       " 'VIX',\n",
       " 'LBL',\n",
       " 'LM',\n",
       " 'BLUR']"
      ]
     },
     "execution_count": 13,
     "metadata": {},
     "output_type": "execute_result"
    }
   ],
   "source": [
    "# 빗썸 API\n",
    "# !pip install pybithumb\n",
    "# 빗썸에서 제공하는 API 설치 (최초 한번만 설치)\n",
    "\n",
    "import pybithumb as pb\n",
    "\n",
    "pb.get_tickers()\n",
    "# tickers는 빗썸에서 거래 가능한 종목명을 출력"
   ]
  },
  {
   "cell_type": "code",
   "execution_count": 16,
   "metadata": {},
   "outputs": [
    {
     "name": "stdout",
     "output_type": "stream",
     "text": [
      "31052000.0\n"
     ]
    }
   ],
   "source": [
    "# 비트코인 가격 조회\n",
    "print(pb.get_current_price(\"BTC\"))"
   ]
  },
  {
   "cell_type": "code",
   "execution_count": 18,
   "metadata": {},
   "outputs": [
    {
     "name": "stdout",
     "output_type": "stream",
     "text": [
      "31096000.0\n",
      "31097000.0\n"
     ]
    },
    {
     "ename": "KeyboardInterrupt",
     "evalue": "",
     "output_type": "error",
     "traceback": [
      "\u001b[1;31m---------------------------------------------------------------------------\u001b[0m",
      "\u001b[1;31mKeyboardInterrupt\u001b[0m                         Traceback (most recent call last)",
      "Cell \u001b[1;32mIn[18], line 5\u001b[0m\n\u001b[0;32m      3\u001b[0m \u001b[39mwhile\u001b[39;00m \u001b[39mTrue\u001b[39;00m:\n\u001b[0;32m      4\u001b[0m     \u001b[39mprint\u001b[39m(pb\u001b[39m.\u001b[39mget_current_price(\u001b[39m\"\u001b[39m\u001b[39mBTC\u001b[39m\u001b[39m\"\u001b[39m))\n\u001b[1;32m----> 5\u001b[0m     time\u001b[39m.\u001b[39;49msleep(\u001b[39m3\u001b[39;49m)\n",
      "\u001b[1;31mKeyboardInterrupt\u001b[0m: "
     ]
    }
   ],
   "source": [
    "# 비트 코인 3초에 한번씩 가격 반복 조회\n",
    "\n",
    "while True:\n",
    "    print(pb.get_current_price(\"BTC\"))\n",
    "    time.sleep(3)"
   ]
  },
  {
   "cell_type": "code",
   "execution_count": 22,
   "metadata": {},
   "outputs": [
    {
     "name": "stdout",
     "output_type": "stream",
     "text": [
      "BTC 31098000.0\n",
      "ETH 2184000.0\n"
     ]
    },
    {
     "ename": "KeyboardInterrupt",
     "evalue": "",
     "output_type": "error",
     "traceback": [
      "\u001b[1;31m---------------------------------------------------------------------------\u001b[0m",
      "\u001b[1;31mKeyboardInterrupt\u001b[0m                         Traceback (most recent call last)",
      "Cell \u001b[1;32mIn[22], line 7\u001b[0m\n\u001b[0;32m      5\u001b[0m \u001b[39mfor\u001b[39;00m ticker \u001b[39min\u001b[39;00m tickers:\n\u001b[0;32m      6\u001b[0m     \u001b[39mprint\u001b[39m(ticker, pb\u001b[39m.\u001b[39mget_current_price(ticker))\n\u001b[1;32m----> 7\u001b[0m     time\u001b[39m.\u001b[39;49msleep(\u001b[39m1\u001b[39;49m)\n",
      "\u001b[1;31mKeyboardInterrupt\u001b[0m: "
     ]
    }
   ],
   "source": [
    "# 모든 코인 가격 조회\n",
    "\n",
    "tickers = pb.get_tickers()\n",
    "\n",
    "for ticker in tickers:\n",
    "    print(ticker, pb.get_current_price(ticker))\n",
    "    time.sleep(1)"
   ]
  },
  {
   "cell_type": "code",
   "execution_count": 23,
   "metadata": {},
   "outputs": [
    {
     "name": "stdout",
     "output_type": "stream",
     "text": [
      "(31180000.0, 31272000.0, 30937000.0, 31115000.0, 213.70988343)\n"
     ]
    }
   ],
   "source": [
    "# 자세한 코인 가격 조회\n",
    "print(pb.get_market_detail(\"BTC\"))\n",
    "\n",
    "# 시가 / 고가 / 저가 / 종가(현재가) / 거래량 \n"
   ]
  },
  {
   "cell_type": "code",
   "execution_count": 28,
   "metadata": {},
   "outputs": [
    {
     "name": "stdout",
     "output_type": "stream",
     "text": [
      "BTC (31180000.0, 31272000.0, 30937000.0, 31102000.0, 247.50729616)\n",
      "ETH (2180000.0, 2203000.0, 2169000.0, 2180000.0, 1971.64033312)\n",
      "예외가 발생 되었습니다.\n"
     ]
    }
   ],
   "source": [
    "# 네트워크를 이용하는 경우에는 특히 에러 즉, 예외가 발생할 경우가 상당히 많다.\n",
    "# 따라서 1) time.sleep()을 이용한 시간 지연\n",
    "#        2) try except 을 이용한 예외 처리가 중요하다.\n",
    "\n",
    "# 모든 코인 자세히 코인 가격 조회\n",
    "tickers = pb.get_tickers()\n",
    "\n",
    "\n",
    "try :\n",
    "    for ticker in tickers:\n",
    "        print(ticker, pb.get_market_detail(ticker))\n",
    "        time.sleep(1)\n",
    "except:\n",
    "    print(\"예외가 발생 되었습니다.\")        "
   ]
  },
  {
   "cell_type": "code",
   "execution_count": 29,
   "metadata": {},
   "outputs": [],
   "source": [
    "# 상승장 하락장 알람 프로그램\n",
    "\n",
    "# 이동평균선을 사용 : 이동평균 값 보다 현재가가 높다면 상승장\n",
    "# 이동 평균 값 보다 현재가가 낮으면 하락장"
   ]
  },
  {
   "cell_type": "code",
   "execution_count": 37,
   "metadata": {},
   "outputs": [
    {
     "name": "stdout",
     "output_type": "stream",
     "text": [
      "756000.0\n",
      "760400.0\n",
      "766000.0\n"
     ]
    }
   ],
   "source": [
    "# 받아온 데이터는 기본적으로 데이터프레임이다.\n",
    "# 데이터 프레임에서 한개의 열 즉 Series\n",
    "# 수동으로 이동평균 계산\n",
    "\n",
    "btc = pb.get_ohlcv(\"BTC\")\n",
    "close = btc['close']\n",
    "\n",
    "print((close[0] + close[1] + close[2] + close[3] + close[4]) / 5  )\n",
    "print((close[1] + close[2] + close[3] + close[4] + close[5]) / 5  )\n",
    "print((close[2] + close[3] + close[4] + close[5] + close[6]) / 5  )"
   ]
  },
  {
   "cell_type": "code",
   "execution_count": 39,
   "metadata": {},
   "outputs": [
    {
     "name": "stdout",
     "output_type": "stream",
     "text": [
      "time\n",
      "2013-12-27 00:00:00           NaN\n",
      "2013-12-28 00:00:00           NaN\n",
      "2013-12-29 00:00:00           NaN\n",
      "2013-12-30 00:00:00           NaN\n",
      "2013-12-31 00:00:00      756000.0\n",
      "                          ...    \n",
      "2023-02-26 00:00:00    31049000.0\n",
      "2023-02-27 00:00:00    31101400.0\n",
      "2023-02-28 00:00:00    31052600.0\n",
      "2023-03-01 00:00:00    31041200.0\n",
      "2023-03-02 11:00:00    31160000.0\n",
      "Name: close, Length: 3263, dtype: float64\n"
     ]
    }
   ],
   "source": [
    "# 자동으로 이동평균 계산\n",
    "\n",
    "btc = pb.get_ohlcv(\"BTC\")\n",
    "close = btc['close']\n",
    "\n",
    "roll5 = close.rolling(5)\n",
    "mean5 = roll5.mean()\n",
    "print(mean5)"
   ]
  },
  {
   "cell_type": "code",
   "execution_count": 43,
   "metadata": {},
   "outputs": [
    {
     "name": "stdout",
     "output_type": "stream",
     "text": [
      "상승장\n"
     ]
    }
   ],
   "source": [
    "# 상승장 하락장 파악\n",
    "\n",
    "btc = pb.get_ohlcv(\"BTC\")\n",
    "close = btc['close']\n",
    "\n",
    "roll5 = close.rolling(5)\n",
    "mean5 = roll5.mean()\n",
    "last_mean5 = mean5[-2]\n",
    "\n",
    "# 비트코인 현재값\n",
    "price = pb.get_current_price('BTC')\n",
    "\n",
    "# 비교\n",
    "if price > last_mean5:\n",
    "    print('상승장')\n",
    "else:\n",
    "    print('하락장')    "
   ]
  },
  {
   "cell_type": "code",
   "execution_count": 1,
   "metadata": {},
   "outputs": [
    {
     "name": "stderr",
     "output_type": "stream",
     "text": [
      "C:\\Users\\두현\\AppData\\Local\\Temp\\ipykernel_10808\\3443880181.py:11: DeprecationWarning: executable_path has been deprecated, please pass in a Service object\n",
      "  driver = webdriver.Chrome('chromedriver.exe')  # 버전 주의\n"
     ]
    },
    {
     "ename": "NoSuchWindowException",
     "evalue": "Message: no such window: target window already closed\nfrom unknown error: web view not found\n  (Session info: chrome=110.0.5481.178)\nStacktrace:\nBacktrace:\n\t(No symbol) [0x008437D3]\n\t(No symbol) [0x007D8B81]\n\t(No symbol) [0x006DB36D]\n\t(No symbol) [0x006BE5DA]\n\t(No symbol) [0x0072F0CB]\n\t(No symbol) [0x00740A56]\n\t(No symbol) [0x0072B216]\n\t(No symbol) [0x00700D97]\n\t(No symbol) [0x0070253D]\n\tGetHandleVerifier [0x00ABABF2+2510930]\n\tGetHandleVerifier [0x00AE8EC1+2700065]\n\tGetHandleVerifier [0x00AEC86C+2714828]\n\tGetHandleVerifier [0x008F3480+645344]\n\t(No symbol) [0x007E0FD2]\n\t(No symbol) [0x007E6C68]\n\t(No symbol) [0x007E6D4B]\n\t(No symbol) [0x007F0D6B]\n\tBaseThreadInitThunk [0x750300F9+25]\n\tRtlGetAppContainerNamedObjectPath [0x77187BBE+286]\n\tRtlGetAppContainerNamedObjectPath [0x77187B8E+238]\n",
     "output_type": "error",
     "traceback": [
      "\u001b[1;31m---------------------------------------------------------------------------\u001b[0m",
      "\u001b[1;31mNoSuchWindowException\u001b[0m                     Traceback (most recent call last)",
      "Cell \u001b[1;32mIn[1], line 15\u001b[0m\n\u001b[0;32m     12\u001b[0m url \u001b[39m=\u001b[39m \u001b[39m'\u001b[39m\u001b[39mhttps://www.starbucks.co.kr/store/store_map.do\u001b[39m\u001b[39m'\u001b[39m\n\u001b[0;32m     13\u001b[0m driver\u001b[39m.\u001b[39mget(url)\n\u001b[1;32m---> 15\u001b[0m txt \u001b[39m=\u001b[39m driver\u001b[39m.\u001b[39;49mpage_source      \u001b[39m# 이때 읽어온 데이터는 그냥 글자\u001b[39;00m\n\u001b[0;32m     16\u001b[0m html \u001b[39m=\u001b[39m bs(txt)\n\u001b[0;32m     18\u001b[0m area_btn \u001b[39m=\u001b[39m driver\u001b[39m.\u001b[39mfind_element(By\u001b[39m.\u001b[39mCSS_SELECTOR, \u001b[39m'\u001b[39m\u001b[39m#container > div > form > fieldset > div > section > article.find_store_cont > article > header.loca_search > h3 > a\u001b[39m\u001b[39m'\u001b[39m)\u001b[39m.\u001b[39mclick()\n",
      "File \u001b[1;32mc:\\Python311\\Lib\\site-packages\\selenium\\webdriver\\remote\\webdriver.py:541\u001b[0m, in \u001b[0;36mWebDriver.page_source\u001b[1;34m(self)\u001b[0m\n\u001b[0;32m    532\u001b[0m \u001b[39m@property\u001b[39m\n\u001b[0;32m    533\u001b[0m \u001b[39mdef\u001b[39;00m \u001b[39mpage_source\u001b[39m(\u001b[39mself\u001b[39m) \u001b[39m-\u001b[39m\u001b[39m>\u001b[39m \u001b[39mstr\u001b[39m:\n\u001b[0;32m    534\u001b[0m \u001b[39m    \u001b[39m\u001b[39m\"\"\"Gets the source of the current page.\u001b[39;00m\n\u001b[0;32m    535\u001b[0m \n\u001b[0;32m    536\u001b[0m \u001b[39m    :Usage:\u001b[39;00m\n\u001b[1;32m   (...)\u001b[0m\n\u001b[0;32m    539\u001b[0m \u001b[39m            driver.page_source\u001b[39;00m\n\u001b[0;32m    540\u001b[0m \u001b[39m    \"\"\"\u001b[39;00m\n\u001b[1;32m--> 541\u001b[0m     \u001b[39mreturn\u001b[39;00m \u001b[39mself\u001b[39;49m\u001b[39m.\u001b[39;49mexecute(Command\u001b[39m.\u001b[39;49mGET_PAGE_SOURCE)[\u001b[39m\"\u001b[39m\u001b[39mvalue\u001b[39m\u001b[39m\"\u001b[39m]\n",
      "File \u001b[1;32mc:\\Python311\\Lib\\site-packages\\selenium\\webdriver\\remote\\webdriver.py:440\u001b[0m, in \u001b[0;36mWebDriver.execute\u001b[1;34m(self, driver_command, params)\u001b[0m\n\u001b[0;32m    438\u001b[0m response \u001b[39m=\u001b[39m \u001b[39mself\u001b[39m\u001b[39m.\u001b[39mcommand_executor\u001b[39m.\u001b[39mexecute(driver_command, params)\n\u001b[0;32m    439\u001b[0m \u001b[39mif\u001b[39;00m response:\n\u001b[1;32m--> 440\u001b[0m     \u001b[39mself\u001b[39;49m\u001b[39m.\u001b[39;49merror_handler\u001b[39m.\u001b[39;49mcheck_response(response)\n\u001b[0;32m    441\u001b[0m     response[\u001b[39m\"\u001b[39m\u001b[39mvalue\u001b[39m\u001b[39m\"\u001b[39m] \u001b[39m=\u001b[39m \u001b[39mself\u001b[39m\u001b[39m.\u001b[39m_unwrap_value(response\u001b[39m.\u001b[39mget(\u001b[39m\"\u001b[39m\u001b[39mvalue\u001b[39m\u001b[39m\"\u001b[39m, \u001b[39mNone\u001b[39;00m))\n\u001b[0;32m    442\u001b[0m     \u001b[39mreturn\u001b[39;00m response\n",
      "File \u001b[1;32mc:\\Python311\\Lib\\site-packages\\selenium\\webdriver\\remote\\errorhandler.py:245\u001b[0m, in \u001b[0;36mErrorHandler.check_response\u001b[1;34m(self, response)\u001b[0m\n\u001b[0;32m    243\u001b[0m         alert_text \u001b[39m=\u001b[39m value[\u001b[39m\"\u001b[39m\u001b[39malert\u001b[39m\u001b[39m\"\u001b[39m]\u001b[39m.\u001b[39mget(\u001b[39m\"\u001b[39m\u001b[39mtext\u001b[39m\u001b[39m\"\u001b[39m)\n\u001b[0;32m    244\u001b[0m     \u001b[39mraise\u001b[39;00m exception_class(message, screen, stacktrace, alert_text)  \u001b[39m# type: ignore[call-arg]  # mypy is not smart enough here\u001b[39;00m\n\u001b[1;32m--> 245\u001b[0m \u001b[39mraise\u001b[39;00m exception_class(message, screen, stacktrace)\n",
      "\u001b[1;31mNoSuchWindowException\u001b[0m: Message: no such window: target window already closed\nfrom unknown error: web view not found\n  (Session info: chrome=110.0.5481.178)\nStacktrace:\nBacktrace:\n\t(No symbol) [0x008437D3]\n\t(No symbol) [0x007D8B81]\n\t(No symbol) [0x006DB36D]\n\t(No symbol) [0x006BE5DA]\n\t(No symbol) [0x0072F0CB]\n\t(No symbol) [0x00740A56]\n\t(No symbol) [0x0072B216]\n\t(No symbol) [0x00700D97]\n\t(No symbol) [0x0070253D]\n\tGetHandleVerifier [0x00ABABF2+2510930]\n\tGetHandleVerifier [0x00AE8EC1+2700065]\n\tGetHandleVerifier [0x00AEC86C+2714828]\n\tGetHandleVerifier [0x008F3480+645344]\n\t(No symbol) [0x007E0FD2]\n\t(No symbol) [0x007E6C68]\n\t(No symbol) [0x007E6D4B]\n\t(No symbol) [0x007F0D6B]\n\tBaseThreadInitThunk [0x750300F9+25]\n\tRtlGetAppContainerNamedObjectPath [0x77187BBE+286]\n\tRtlGetAppContainerNamedObjectPath [0x77187B8E+238]\n"
     ]
    }
   ],
   "source": [
    "# 스타벅스 크롤링\n",
    "# 브라우저에서 단추 클릭하기\n",
    "\n",
    "from selenium import webdriver        # 웹 브라우저 컨트롤 (크롬)\n",
    "from bs4 import BeautifulSoup as bs   # 데이터 분석을 용이하게 정제\n",
    "import pandas as pd                   # 데이터 분석 관련 모듈\n",
    "from pprint import pprint \n",
    "import time\n",
    "from selenium.webdriver.common.by import By\n",
    "\n",
    "driver = webdriver.Chrome('chromedriver.exe')  # 버전 주의\n",
    "url = 'https://www.starbucks.co.kr/store/store_map.do'\n",
    "driver.get(url)\n",
    "\n",
    "txt = driver.page_source      # 이때 읽어온 데이터는 그냥 글자\n",
    "html = bs(txt)\n",
    "\n",
    "area_btn = driver.find_element(By.CSS_SELECTOR, '#container > div > form > fieldset > div > section > article.find_store_cont > article > header.loca_search > h3 > a').click()\n",
    "time.sleep(2)\n",
    "\n",
    "seoul_btn = driver.find_element(By.CSS_SELECTOR, '#container > div > form > fieldset > div > section > article.find_store_cont > article > article:nth-child(4) > div.loca_step1 > div.loca_step1_cont > ul > li:nth-child(1) > a').click()\n",
    "time.sleep(2)\n",
    "\n",
    "all_btn = driver.find_element(By.CSS_SELECTOR, '#mCSB_2_container > ul > li:nth-child(1) > a').click()\n",
    "time.sleep(2)\n",
    "\n",
    "txt = driver.page_source      \n",
    "html = bs(txt)      # ajax로 설정한 page를 다시 불러온다\n",
    "\n",
    "len(html.select('li > strong'))\n"
   ]
  }
 ],
 "metadata": {
  "kernelspec": {
   "display_name": "Python 3",
   "language": "python",
   "name": "python3"
  },
  "language_info": {
   "codemirror_mode": {
    "name": "ipython",
    "version": 3
   },
   "file_extension": ".py",
   "mimetype": "text/x-python",
   "name": "python",
   "nbconvert_exporter": "python",
   "pygments_lexer": "ipython3",
   "version": "3.11.1"
  },
  "orig_nbformat": 4,
  "vscode": {
   "interpreter": {
    "hash": "c261aea317cc0286b3b3261fbba9abdec21eaa57589985bb7a274bf54d6cc0a7"
   }
  }
 },
 "nbformat": 4,
 "nbformat_minor": 2
}
