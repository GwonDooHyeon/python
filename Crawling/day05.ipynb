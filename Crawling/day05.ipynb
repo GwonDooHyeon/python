{
 "cells": [
  {
   "cell_type": "code",
   "execution_count": 2,
   "metadata": {},
   "outputs": [],
   "source": [
    "# !pip install pymysql\n",
    "# !pip install PyQt5\n",
    "\n",
    "import pymysql\n",
    "import requests\n"
   ]
  },
  {
   "cell_type": "code",
   "execution_count": 2,
   "metadata": {},
   "outputs": [
    {
     "ename": "NameError",
     "evalue": "name 'pymysql' is not defined",
     "output_type": "error",
     "traceback": [
      "\u001b[1;31m---------------------------------------------------------------------------\u001b[0m",
      "\u001b[1;31mNameError\u001b[0m                                 Traceback (most recent call last)",
      "Cell \u001b[1;32mIn[2], line 1\u001b[0m\n\u001b[1;32m----> 1\u001b[0m conn \u001b[39m=\u001b[39m pymysql\u001b[39m.\u001b[39mconnect(host\u001b[39m=\u001b[39m\u001b[39m'\u001b[39m\u001b[39msecure3141.cafe24.com\u001b[39m\u001b[39m'\u001b[39m, user\u001b[39m=\u001b[39m\u001b[39m'\u001b[39m\u001b[39msecure3141\u001b[39m\u001b[39m'\u001b[39m, password\u001b[39m=\u001b[39m\u001b[39m'\u001b[39m\u001b[39mZld5493127!\u001b[39m\u001b[39m'\u001b[39m, db\u001b[39m=\u001b[39m\u001b[39m'\u001b[39m\u001b[39m'\u001b[39m, charset\u001b[39m=\u001b[39m\u001b[39m'\u001b[39m\u001b[39mutf8\u001b[39m\u001b[39m'\u001b[39m)\n\u001b[0;32m      3\u001b[0m \u001b[39m# cur = conn.cursor()\u001b[39;00m\n\u001b[0;32m      4\u001b[0m \u001b[39m# cur.execute(\"SELECT * FROM user\")\u001b[39;00m\n\u001b[0;32m      5\u001b[0m \u001b[39m# result = cur.fetchall()\u001b[39;00m\n\u001b[1;32m   (...)\u001b[0m\n\u001b[0;32m     11\u001b[0m \n\u001b[0;32m     12\u001b[0m \u001b[39m#필요한 모듈 읽어오기 기본적인 창 구성요소를 제공하는 모든 것은 PyQt5.QtWidgets에 만들어져 있다.\u001b[39;00m\n\u001b[0;32m     13\u001b[0m \u001b[39mimport\u001b[39;00m \u001b[39msys\u001b[39;00m\n",
      "\u001b[1;31mNameError\u001b[0m: name 'pymysql' is not defined"
     ]
    }
   ],
   "source": [
    "\n",
    "# cur = conn.cursor()\n",
    "# cur.execute(\"SELECT * FROM user\")\n",
    "# result = cur.fetchall()\n",
    "\n",
    "# import pprint\n",
    "# pprint.pprint(result)\n",
    "\n",
    "# 윈도우 기본창 띄우기 \n",
    "\n",
    "\n",
    "# 필요한 모듈 읽어오기 기본적인 창 구성요소를 제공하는 모든 것은 PyQt5.QtWidgets 에 \n",
    "# 만들어져 있다. \n",
    "import sys\n",
    "from PyQt5.QtWidgets import QApplication, QWidget\n",
    "\n",
    "\n",
    "class MyApp(QWidget):\n",
    "    # 생성자 설정\n",
    "    def __init__(self):\n",
    "        super().__init__()\n",
    "        self.initUI()\n",
    "\n",
    "    # 창 기본 설정, 여기서는 제목만 설정하였다. \n",
    "    def initUI(self):\n",
    "        self.setWindowTitle(\"Hello World!!!\")  \n",
    "        self.show()\n",
    "\n",
    "# 파이썬은 기본적으로 인터프리터 이기 때문에 한줄한줄 코드를 실행하고 마치게 된다. \n",
    "# 열려진 윈도우 창을 계속 유지시켜야 한다. \n",
    "app = QApplication(sys.argv)\n",
    "ex = MyApp()\n",
    "sys.exit(app.exec_())"
   ]
  },
  {
   "cell_type": "code",
   "execution_count": null,
   "metadata": {},
   "outputs": [],
   "source": [
    "import sys\n",
    "from PyQt5.QtWidgets import QApplication, QWidget, QPushButton\n",
    "from PyQt5.QtCore import QCoreApplication\n",
    "\n",
    "# 윈도우 기본창에 정지 단추\n",
    "class MyApp(QWidget):\n",
    "    # 생성자 설정\n",
    "    def __init__(self):\n",
    "        super().__init__()\n",
    "        self.initUI()\n",
    "\n",
    "    # 창 기본 설정, 여기서는 제목만 설정하였다. \n",
    "    def initUI(self):\n",
    "        self.setWindowTitle(\"Hello World!!!\")  \n",
    "        btn = QPushButton('Quit', self)\n",
    "        btn.clicked.connect(QCoreApplication.instance().quit)\n",
    "\n",
    "        self.show()\n",
    "\n",
    "# 파이썬은 기본적으로 인터프리터 이기 때문에 한줄한줄 코드를 실행하고 마치게 된다. \n",
    "# 열려진 윈도우 창을 계속 유지시켜야 한다. \n",
    "app = QApplication(sys.argv)\n",
    "ex = MyApp()\n",
    "sys.exit(app.exec_())"
   ]
  },
  {
   "cell_type": "code",
   "execution_count": 2,
   "metadata": {},
   "outputs": [
    {
     "ename": "",
     "evalue": "",
     "output_type": "error",
     "traceback": [
      "\u001b[1;31mCanceled future for execute_request message before replies were done"
     ]
    },
    {
     "ename": "",
     "evalue": "",
     "output_type": "error",
     "traceback": [
      "\u001b[1;31mThe Kernel crashed while executing code in the the current cell or a previous cell. Please review the code in the cell(s) to identify a possible cause of the failure. Click <a href='https://aka.ms/vscodeJupyterKernelCrash'>here</a> for more info. View Jupyter <a href='command:jupyter.viewOutput'>log</a> for further details."
     ]
    }
   ],
   "source": [
    "import sys\n",
    "from PyQt5.QtWidgets import QApplication, QMainWindow, QAction, qApp\n",
    "from PyQt5.QtGui import QIcon\n",
    "\n",
    "\n",
    "class MyApp(QMainWindow):\n",
    "\n",
    "    def __init__(self):\n",
    "        super().__init__()\n",
    "        self.initUI()\n",
    "\n",
    "    def initUI(self):\n",
    "        exitAction = QAction(QIcon('exit.png'), 'Exit', self)\n",
    "        exitAction.setShortcut('Ctrl+Q')\n",
    "        exitAction.setStatusTip('Exit application')\n",
    "        exitAction.triggered.connect(qApp.quit)\n",
    "\n",
    "        self.statusBar()\n",
    "\n",
    "        menubar = self.menuBar()\n",
    "        menubar.setNativeMenuBar(False)\n",
    "        filemenu = menubar.addMenu('&File')\n",
    "        filemenu.addAction(exitAction)\n",
    "\n",
    "        self.setWindowTitle('Menubar')\n",
    "        self.setGeometry(300, 300, 300, 200)\n",
    "        self.show()\n",
    "\n",
    "\n",
    "if __name__ == '__main__':\n",
    "    app = QApplication(sys.argv)\n",
    "    ex = MyApp()\n",
    "    sys.exit(app.exec_())"
   ]
  },
  {
   "cell_type": "code",
   "execution_count": 2,
   "metadata": {},
   "outputs": [
    {
     "ename": "",
     "evalue": "",
     "output_type": "error",
     "traceback": [
      "\u001b[1;31mCanceled future for execute_request message before replies were done"
     ]
    },
    {
     "ename": "",
     "evalue": "",
     "output_type": "error",
     "traceback": [
      "\u001b[1;31mThe Kernel crashed while executing code in the the current cell or a previous cell. Please review the code in the cell(s) to identify a possible cause of the failure. Click <a href='https://aka.ms/vscodeJupyterKernelCrash'>here</a> for more info. View Jupyter <a href='command:jupyter.viewOutput'>log</a> for further details."
     ]
    }
   ],
   "source": [
    "# QT Designer 로 생성한 기본 윈도우 창을 여는 방법\n",
    "\n",
    "\n",
    "# 윈도우 기본창 띄우기 \n",
    "\n",
    "import sys\n",
    "from PyQt5.QtWidgets import *\n",
    "from PyQt5 import uic\n",
    "\n",
    "form_class = uic.loadUiType(\"mywindow.ui\")[0]\n",
    "\n",
    "class MyWindow(QMainWindow, form_class):\n",
    "\n",
    "    def __init__(self):\n",
    "        super().__init__()\n",
    "        self.setupUi(self)\n",
    "\n",
    "app = QApplication(sys.argv)\n",
    "window = MyWindow()\n",
    "window.show()\n",
    "app.exec_()"
   ]
  },
  {
   "cell_type": "code",
   "execution_count": 2,
   "metadata": {},
   "outputs": [
    {
     "ename": "",
     "evalue": "",
     "output_type": "error",
     "traceback": [
      "\u001b[1;31mCanceled future for execute_request message before replies were done"
     ]
    },
    {
     "ename": "",
     "evalue": "",
     "output_type": "error",
     "traceback": [
      "\u001b[1;31mThe Kernel crashed while executing code in the the current cell or a previous cell. Please review the code in the cell(s) to identify a possible cause of the failure. Click <a href='https://aka.ms/vscodeJupyterKernelCrash'>here</a> for more info. View Jupyter <a href='command:jupyter.viewOutput'>log</a> for further details."
     ]
    }
   ],
   "source": [
    "# 클릭 1개 인식\n",
    "\n",
    "\n",
    "# 윈도우 기본창 띄우기 \n",
    "\n",
    "import sys\n",
    "from PyQt5.QtWidgets import *\n",
    "from PyQt5 import uic\n",
    "\n",
    "form_class = uic.loadUiType(\"mywindow1.ui\")[0]\n",
    "\n",
    "class MyWindow(QMainWindow, form_class):\n",
    "\n",
    "    def __init__(self):\n",
    "        super().__init__()\n",
    "        self.setupUi(self)\n",
    "        self.pushButton.clicked.connect(self.btn_clicked)\n",
    "\n",
    "    def btn_clicked(self):\n",
    "        print(\"클릭 확인\")\n",
    "\n",
    "app = QApplication(sys.argv)\n",
    "window = MyWindow()\n",
    "window.show()\n",
    "app.exec_()"
   ]
  },
  {
   "cell_type": "code",
   "execution_count": 2,
   "metadata": {},
   "outputs": [
    {
     "ename": "",
     "evalue": "",
     "output_type": "error",
     "traceback": [
      "\u001b[1;31mCanceled future for execute_request message before replies were done"
     ]
    },
    {
     "ename": "",
     "evalue": "",
     "output_type": "error",
     "traceback": [
      "\u001b[1;31mThe Kernel crashed while executing code in the the current cell or a previous cell. Please review the code in the cell(s) to identify a possible cause of the failure. Click <a href='https://aka.ms/vscodeJupyterKernelCrash'>here</a> for more info. View Jupyter <a href='command:jupyter.viewOutput'>log</a> for further details."
     ]
    }
   ],
   "source": [
    "# 라디오 버튼은 여러개중 하나만 선택 가능\n",
    "\n",
    "\n",
    "# 윈도우 기본창 띄우기 \n",
    "\n",
    "import sys\n",
    "from PyQt5.QtWidgets import *\n",
    "from PyQt5 import uic\n",
    "\n",
    "form_class = uic.loadUiType(\"mywindow3.ui\")[0]\n",
    "\n",
    "class MyWindow(QMainWindow, form_class):\n",
    "\n",
    "    def __init__(self):\n",
    "        super().__init__()\n",
    "        self.setupUi(self)\n",
    "\n",
    "        self.radioButton_1.clicked.connect(self.radioFunction)\n",
    "        self.radioButton_2.clicked.connect(self.radioFunction)\n",
    "        self.radioButton_3.clicked.connect(self.radioFunction)\n",
    "\n",
    "    def radioFunction(self):\n",
    "        if self.radioButton_1.isChecked():\n",
    "            print('라디오 버튼 1 체크')\n",
    "        elif self.radioButton_2.isChecked():\n",
    "            print('라디오 버튼 2 체크')\n",
    "        elif self.radioButton_3.isChecked():\n",
    "            print('라디오 버튼 3 체크') \n",
    "\n",
    "   \n",
    "app = QApplication(sys.argv)\n",
    "window = MyWindow()\n",
    "window.show()\n",
    "app.exec_()"
   ]
  },
  {
   "cell_type": "code",
   "execution_count": 2,
   "metadata": {},
   "outputs": [
    {
     "ename": "",
     "evalue": "",
     "output_type": "error",
     "traceback": [
      "\u001b[1;31mCanceled future for execute_request message before replies were done"
     ]
    },
    {
     "ename": "",
     "evalue": "",
     "output_type": "error",
     "traceback": [
      "\u001b[1;31mThe Kernel crashed while executing code in the the current cell or a previous cell. Please review the code in the cell(s) to identify a possible cause of the failure. Click <a href='https://aka.ms/vscodeJupyterKernelCrash'>here</a> for more info. View Jupyter <a href='command:jupyter.viewOutput'>log</a> for further details."
     ]
    }
   ],
   "source": [
    "# 체크 박스는 중복 선택이 가능함\n",
    "\n",
    "\n",
    "# 윈도우 기본창 띄우기 \n",
    "\n",
    "import sys\n",
    "from PyQt5.QtWidgets import *\n",
    "from PyQt5 import uic\n",
    "\n",
    "form_class = uic.loadUiType(\"mywindow4.ui\")[0]\n",
    "\n",
    "class MyWindow(QMainWindow, form_class):\n",
    "\n",
    "    def __init__(self):\n",
    "        super().__init__()\n",
    "        self.setupUi(self)\n",
    "\n",
    "        self.check1.stateChanged.connect(self.chkFunction)\n",
    "        self.check2.stateChanged.connect(self.chkFunction)\n",
    "        self.check3.stateChanged.connect(self.chkFunction)\n",
    "\n",
    "        self.checkBox1.stateChanged.connect(self.chkBoxFunction)\n",
    "        self.checkBox2.stateChanged.connect(self.chkBoxFunction)\n",
    "        self.checkBox3.stateChanged.connect(self.chkBoxFunction)\n",
    "\n",
    "    # 여러개가 동시 선택될수 있기 떄문에 elif를 사용하지 않는다.\n",
    "    def chkFunction(self):\n",
    "        if self.check1.isChecked():\n",
    "            print('체크 버튼 1 체크')\n",
    "        if self.check2.isChecked():\n",
    "            print('체크 버튼 2 체크')\n",
    "        if self.check3.isChecked():\n",
    "            print('체크 버튼 3 체크') \n",
    "            \n",
    "    def chkBoxFunction(self):\n",
    "        if self.checkBox1.isChecked():\n",
    "            print('체크 박스버튼 1 체크')\n",
    "        if self.checkBox2.isChecked():\n",
    "            print('체크 박스버튼 2 체크')\n",
    "        if self.checkBox3.isChecked():\n",
    "            print('체크 박스버튼 3 체크')             \n",
    "\n",
    "   \n",
    "app = QApplication(sys.argv)\n",
    "window = MyWindow()\n",
    "window.show()\n",
    "app.exec_()"
   ]
  },
  {
   "cell_type": "code",
   "execution_count": 2,
   "metadata": {},
   "outputs": [
    {
     "ename": "",
     "evalue": "",
     "output_type": "error",
     "traceback": [
      "\u001b[1;31mCanceled future for execute_request message before replies were done"
     ]
    },
    {
     "ename": "",
     "evalue": "",
     "output_type": "error",
     "traceback": [
      "\u001b[1;31mThe Kernel crashed while executing code in the the current cell or a previous cell. Please review the code in the cell(s) to identify a possible cause of the failure. Click <a href='https://aka.ms/vscodeJupyterKernelCrash'>here</a> for more info. View Jupyter <a href='command:jupyter.viewOutput'>log</a> for further details."
     ]
    }
   ],
   "source": [
    "# 라벨 처리\n",
    "\n",
    "\n",
    "# 윈도우 기본창 띄우기 \n",
    "\n",
    "import sys\n",
    "from PyQt5.QtWidgets import *\n",
    "from PyQt5 import uic\n",
    "\n",
    "form_class = uic.loadUiType(\"mywindow5.ui\")[0]\n",
    "\n",
    "class MyWindow(QMainWindow, form_class):\n",
    "\n",
    "    def __init__(self):\n",
    "        super().__init__()\n",
    "        self.setupUi(self)\n",
    "\n",
    "        self.melon.clicked.connect(self.melonFunction)\n",
    "        self.genie.clicked.connect(self.genieFunction)\n",
    "        self.deleteButton.clicked.connect(self.deleteFunction)\n",
    "        self.printButton.clicked.connect(self.printFunction)\n",
    "\n",
    "    def melonFunction(self):\n",
    "        self.label.setText(\"멜론 차트 조회\")      \n",
    "\n",
    "    def genieFunction(self):\n",
    "        self.label.setText(\"지니 차트 조회\")      \n",
    "        \n",
    "    def deleteFunction(self):\n",
    "        self.label.clear()\n",
    "\n",
    "    def printFunction(self):\n",
    "        print(self.label.text())\n",
    "\n",
    "   \n",
    "app = QApplication(sys.argv)\n",
    "window = MyWindow()\n",
    "window.show()\n",
    "app.exec_()"
   ]
  },
  {
   "cell_type": "code",
   "execution_count": 2,
   "metadata": {},
   "outputs": [
    {
     "ename": "",
     "evalue": "",
     "output_type": "error",
     "traceback": [
      "\u001b[1;31mCanceled future for execute_request message before replies were done"
     ]
    },
    {
     "ename": "",
     "evalue": "",
     "output_type": "error",
     "traceback": [
      "\u001b[1;31mThe Kernel crashed while executing code in the the current cell or a previous cell. Please review the code in the cell(s) to identify a possible cause of the failure. Click <a href='https://aka.ms/vscodeJupyterKernelCrash'>here</a> for more info. View Jupyter <a href='command:jupyter.viewOutput'>log</a> for further details."
     ]
    }
   ],
   "source": [
    "# Text Browser\n",
    "\n",
    "\n",
    "# 윈도우 기본창 띄우기 \n",
    "\n",
    "import sys\n",
    "from PyQt5.QtWidgets import *\n",
    "from PyQt5 import uic\n",
    "\n",
    "form_class = uic.loadUiType(\"mywindow6.ui\")[0]\n",
    "\n",
    "class MyWindow(QMainWindow, form_class):\n",
    "\n",
    "    def __init__(self):\n",
    "        super().__init__()\n",
    "        self.setupUi(self)\n",
    "\n",
    "        self.printbrowserButton.clicked.connect(self.printFunction)\n",
    "        self.settextButton.clicked.connect(self.setFunction)\n",
    "        self.appendtextButton.clicked.connect(self.appendFunction)\n",
    "        self.clearButton.clicked.connect(self.clearFunction)\n",
    "\n",
    "    def printFunction(self):\n",
    "        print(self.textBrowser.toPlainText())      \n",
    "\n",
    "    def setFunction(self):\n",
    "        self.textBrowser.setPlainText(\"텍스트 브라우저 글자 변경 테스트\")\n",
    "        \n",
    "    def appendFunction(self):\n",
    "        self.textBrowser.append(\"텍스트 추가 테스트\")\n",
    "\n",
    "    def clearFunction(self):\n",
    "        self.textBrowser.clear()\n",
    "\n",
    "   \n",
    "app = QApplication(sys.argv)\n",
    "window = MyWindow()\n",
    "window.show()\n",
    "app.exec_()"
   ]
  },
  {
   "cell_type": "code",
   "execution_count": 1,
   "metadata": {},
   "outputs": [
    {
     "data": {
      "text/plain": [
       "0"
      ]
     },
     "execution_count": 1,
     "metadata": {},
     "output_type": "execute_result"
    }
   ],
   "source": [
    "# Line Edit\n",
    "\n",
    "\n",
    "# 윈도우 기본창 띄우기 \n",
    "\n",
    "import sys\n",
    "from PyQt5.QtWidgets import *\n",
    "from PyQt5 import uic\n",
    "\n",
    "form_class = uic.loadUiType(\"mywindow7.ui\")[0]\n",
    "\n",
    "class MyWindow(QMainWindow, form_class):\n",
    "\n",
    "    def __init__(self):\n",
    "        super().__init__()\n",
    "        self.setupUi(self)\n",
    "\n",
    "        self.lineEdit.textChanged.connect(self.lineeditFunction)\n",
    "        self.lineEdit.returnPressed.connect(self.returnFunction)\n",
    "        self.lineeditchangeButton.clicked.connect(self.changeFunction)\n",
    "        \n",
    "\n",
    "    def lineeditFunction(self):\n",
    "        self.label_text.setText(self.lineEdit.text())  \n",
    "\n",
    "    def returnFunction(self):\n",
    "        print(self.lineEdit.text())\n",
    "\n",
    "    def changeFunction(self):\n",
    "        self.lineEdit.setText(\"글자 변경\")\n",
    "        \n",
    "    \n",
    "\n",
    "   \n",
    "app = QApplication(sys.argv)\n",
    "window = MyWindow()\n",
    "window.show()\n",
    "app.exec_()"
   ]
  }
 ],
 "metadata": {
  "kernelspec": {
   "display_name": "Python 3",
   "language": "python",
   "name": "python3"
  },
  "language_info": {
   "codemirror_mode": {
    "name": "ipython",
    "version": 3
   },
   "file_extension": ".py",
   "mimetype": "text/x-python",
   "name": "python",
   "nbconvert_exporter": "python",
   "pygments_lexer": "ipython3",
   "version": "3.11.1"
  },
  "orig_nbformat": 4
 },
 "nbformat": 4,
 "nbformat_minor": 2
}
