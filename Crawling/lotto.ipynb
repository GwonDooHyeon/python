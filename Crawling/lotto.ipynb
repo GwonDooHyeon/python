{
 "cells": [
  {
   "cell_type": "code",
   "execution_count": 3,
   "metadata": {},
   "outputs": [
    {
     "data": {
      "text/plain": [
       "[<span class=\"ball_645 lrg ball1\">8</span>,\n",
       " <span class=\"ball_645 lrg ball2\">13</span>,\n",
       " <span class=\"ball_645 lrg ball2\">19</span>,\n",
       " <span class=\"ball_645 lrg ball3\">27</span>,\n",
       " <span class=\"ball_645 lrg ball4\">40</span>,\n",
       " <span class=\"ball_645 lrg ball5\">45</span>,\n",
       " <span class=\"ball_645 lrg ball2\">12</span>]"
      ]
     },
     "execution_count": 3,
     "metadata": {},
     "output_type": "execute_result"
    }
   ],
   "source": [
    "import requests # 웹 페이지 읽어오는 모듈\n",
    "from bs4 import BeautifulSoup as bs # 읽어온 웹페이지 정제\n",
    "\n",
    "url = \"https://dhlottery.co.kr/gameResult.do?method=byWin\"\n",
    "txt = requests.get(url) # 웹페이지 그냥 긁자로 읽어오기\n",
    "html = bs(txt.text) # 읽어온 글자를 의미가 있는 bs로 html 변환\n",
    "\n",
    "html.select('span.ball_645')\n",
    "\n"
   ]
  },
  {
   "cell_type": "code",
   "execution_count": 10,
   "metadata": {},
   "outputs": [
    {
     "name": "stdout",
     "output_type": "stream",
     "text": [
      "8\n",
      "13\n",
      "19\n",
      "27\n",
      "40\n",
      "45\n",
      "12\n"
     ]
    }
   ],
   "source": [
    "lottery = html.select('span.ball_645')\n",
    "\n",
    "print(lottery[0].text)\n",
    "print(lottery[1].text)\n",
    "print(lottery[2].text)\n",
    "print(lottery[3].text)\n",
    "print(lottery[4].text)\n",
    "print(lottery[5].text)\n",
    "print(lottery[6].text)"
   ]
  },
  {
   "cell_type": "code",
   "execution_count": 4,
   "metadata": {},
   "outputs": [
    {
     "name": "stdout",
     "output_type": "stream",
     "text": [
      "(2023년 03월 04일 추첨)\n"
     ]
    }
   ],
   "source": [
    "when = html.select('p.desc')[0].text\n",
    "print(when)"
   ]
  },
  {
   "cell_type": "code",
   "execution_count": 1,
   "metadata": {},
   "outputs": [
    {
     "data": {
      "text/plain": [
       "0"
      ]
     },
     "execution_count": 1,
     "metadata": {},
     "output_type": "execute_result"
    }
   ],
   "source": [
    "# 로또 번호 조회 앱\n",
    "\n",
    "# 윈도우 기본창 띄우기 \n",
    "\n",
    "import requests\n",
    "import sys\n",
    "from PyQt5.QtWidgets import *\n",
    "from PyQt5 import uic\n",
    "from bs4 import BeautifulSoup as bs\n",
    "\n",
    "form_class = uic.loadUiType(\"lotto.ui\")[0]\n",
    "\n",
    "class MyWindow(QMainWindow, form_class):\n",
    "\n",
    "    def __init__(self):\n",
    "        super().__init__()\n",
    "        self.setupUi(self)\n",
    "        \n",
    "        # 단추를 누르면\n",
    "        self.pushButton.clicked.connect(self.btnclicked)\n",
    "\n",
    "        # 조회 후 칸에 출력\n",
    "    def btnclicked(self):\n",
    "        url = \"https://dhlottery.co.kr/gameResult.do?method=byWin\"\n",
    "        txt = requests.get(url) # 웹페이지 그냥 긁자로 읽어오기\n",
    "        html = bs(txt.text) # 읽어온 글자를 의미가 있는 bs로 html 변환\n",
    "        lottery = html.select('span.ball_645')\n",
    "        when = html.select('p.desc')[0].text\n",
    "        nums = html.select('h4')[0].text\n",
    "\n",
    "        self.date_label.setText(nums)\n",
    "        self.date_label_2.setText(when)\n",
    "\n",
    "        self.num1.setText(lottery[0].text)\n",
    "        self.num2.setText(lottery[1].text)\n",
    "        self.num3.setText(lottery[2].text)\n",
    "        self.num4.setText(lottery[3].text)\n",
    "        self.num5.setText(lottery[4].text)\n",
    "        self.num6.setText(lottery[5].text)\n",
    "        self.num7.setText(lottery[6].text)\n",
    " \n",
    "app = QApplication(sys.argv)\n",
    "window = MyWindow()\n",
    "window.show()\n",
    "app.exec_()"
   ]
  }
 ],
 "metadata": {
  "kernelspec": {
   "display_name": "Python 3",
   "language": "python",
   "name": "python3"
  },
  "language_info": {
   "codemirror_mode": {
    "name": "ipython",
    "version": 3
   },
   "file_extension": ".py",
   "mimetype": "text/x-python",
   "name": "python",
   "nbconvert_exporter": "python",
   "pygments_lexer": "ipython3",
   "version": "3.11.1"
  },
  "orig_nbformat": 4
 },
 "nbformat": 4,
 "nbformat_minor": 2
}
