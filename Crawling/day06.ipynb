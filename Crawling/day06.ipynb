{
 "cells": [
  {
   "cell_type": "code",
   "execution_count": 2,
   "metadata": {},
   "outputs": [
    {
     "ename": "",
     "evalue": "",
     "output_type": "error",
     "traceback": [
      "\u001b[1;31mCanceled future for execute_request message before replies were done"
     ]
    },
    {
     "ename": "",
     "evalue": "",
     "output_type": "error",
     "traceback": [
      "\u001b[1;31mThe Kernel crashed while executing code in the the current cell or a previous cell. Please review the code in the cell(s) to identify a possible cause of the failure. Click <a href='https://aka.ms/vscodeJupyterKernelCrash'>here</a> for more info. View Jupyter <a href='command:jupyter.viewOutput'>log</a> for further details."
     ]
    }
   ],
   "source": [
    "# ComboBox\n",
    "\n",
    "# 윈도우 기본창 띄우기 \n",
    "\n",
    "import sys\n",
    "from PyQt5.QtWidgets import *\n",
    "from PyQt5 import uic\n",
    "\n",
    "form_class = uic.loadUiType(\"mywindow7.ui\")[0]\n",
    "\n",
    "class MyWindow(QMainWindow, form_class):\n",
    "\n",
    "    def __init__(self):\n",
    "        super().__init__()\n",
    "        self.setupUi(self)\n",
    "        \n",
    "        # 단추 클릭했을 때 콤보 박스 확인\n",
    "\n",
    "        self.printitem.clicked.connect(self.printFunction)\n",
    "\n",
    "\n",
    "    def printFunction(self):\n",
    "        print(self.comboBox.currentText())\n",
    "        \n",
    "    \n",
    "\n",
    "   \n",
    "app = QApplication(sys.argv)\n",
    "window = MyWindow()\n",
    "window.show()\n",
    "app.exec_()"
   ]
  },
  {
   "cell_type": "code",
   "execution_count": 2,
   "metadata": {},
   "outputs": [
    {
     "ename": "",
     "evalue": "",
     "output_type": "error",
     "traceback": [
      "\u001b[1;31mCanceled future for execute_request message before replies were done"
     ]
    },
    {
     "ename": "",
     "evalue": "",
     "output_type": "error",
     "traceback": [
      "\u001b[1;31mThe Kernel crashed while executing code in the the current cell or a previous cell. Please review the code in the cell(s) to identify a possible cause of the failure. Click <a href='https://aka.ms/vscodeJupyterKernelCrash'>here</a> for more info. View Jupyter <a href='command:jupyter.viewOutput'>log</a> for further details."
     ]
    }
   ],
   "source": [
    "import sys\n",
    "from PyQt5.QtWidgets import *\n",
    "\n",
    "class MyWindow(QMainWindow):\n",
    "    def __init__(self):\n",
    "        super().__init__()\n",
    "\n",
    "        # 윈도우 창 \n",
    "        self.setGeometry(800, 200, 300, 300)\n",
    "\n",
    "        # 윈도우에 테이블위젯 넣기\n",
    "        self.tableWidget = QTableWidget(self)\n",
    "        self.tableWidget.resize(290, 290)\n",
    "        self.tableWidget.setColumnCount(2)\n",
    "        self.tableWidget.setRowCount(5)\n",
    "\n",
    "        # 테이블위젯에 데이터 넣기  (행, 열, 넣을값)\n",
    "        self.tableWidget.setItem(0, 0, QTableWidgetItem(\"비트코인\"))\n",
    "        self.tableWidget.setItem(0, 1, QTableWidgetItem(\"31000000\"))\n",
    "\n",
    "        self.tableWidget.setItem(1, 0, QTableWidgetItem(\"이더리움\"))\n",
    "        self.tableWidget.setItem(1, 1, QTableWidgetItem(\"21000000\"))\n",
    "\n",
    "        self.tableWidget.setItem(2, 0, QTableWidgetItem(\"리플\"))\n",
    "\n",
    "app = QApplication(sys.argv)\n",
    "mywindow = MyWindow()\n",
    "mywindow.show()\n",
    "app.exec_()        "
   ]
  },
  {
   "cell_type": "code",
   "execution_count": 2,
   "metadata": {},
   "outputs": [
    {
     "data": {
      "text/plain": [
       "'10.4°'"
      ]
     },
     "execution_count": 2,
     "metadata": {},
     "output_type": "execute_result"
    }
   ],
   "source": [
    "# 현재 온도 조회 기본 코드\n",
    "import requests\n",
    "from bs4 import BeautifulSoup as bs\n",
    "\n",
    "txt = requests.get('https://weather.naver.com/')\n",
    "html = bs(txt.text)\n",
    "\n",
    "temp = html.select('strong.current')[0].text.strip()\n",
    "temp[5:]"
   ]
  },
  {
   "cell_type": "code",
   "execution_count": 2,
   "metadata": {},
   "outputs": [
    {
     "ename": "",
     "evalue": "",
     "output_type": "error",
     "traceback": [
      "\u001b[1;31mCanceled future for execute_request message before replies were done"
     ]
    },
    {
     "ename": "",
     "evalue": "",
     "output_type": "error",
     "traceback": [
      "\u001b[1;31mThe Kernel crashed while executing code in the the current cell or a previous cell. Please review the code in the cell(s) to identify a possible cause of the failure. Click <a href='https://aka.ms/vscodeJupyterKernelCrash'>here</a> for more info. View Jupyter <a href='command:jupyter.viewOutput'>log</a> for further details."
     ]
    }
   ],
   "source": [
    "# 현재 온도 조회 앱\n",
    "\n",
    "# 윈도우 기본창 띄우기 \n",
    "\n",
    "import sys\n",
    "from PyQt5.QtWidgets import *\n",
    "from PyQt5 import uic\n",
    "import requests\n",
    "from bs4 import BeautifulSoup as bs\n",
    "\n",
    "form_class = uic.loadUiType(\"weather.ui\")[0]\n",
    "\n",
    "class MyWindow(QMainWindow, form_class):\n",
    "\n",
    "    def __init__(self):\n",
    "        super().__init__()\n",
    "        self.setupUi(self)\n",
    "        \n",
    "        # 단추를 누르면\n",
    "        self.pushButton.clicked.connect(self.btnclicked)\n",
    "\n",
    "\n",
    "        # 조회 후 칸에 출력\n",
    "    def btnclicked(self):\n",
    "        \n",
    "        txt = requests.get('https://weather.naver.com/')\n",
    "        html = bs(txt.text)\n",
    "\n",
    "        temp = html.select('strong.current')[0].text.strip()\n",
    "        result = temp[5:]\n",
    "\n",
    "        self.lineEdit.setText(result)\n",
    "\n",
    "    \n",
    "\n",
    "   \n",
    "app = QApplication(sys.argv)\n",
    "window = MyWindow()\n",
    "window.show()\n",
    "app.exec_()"
   ]
  },
  {
   "cell_type": "code",
   "execution_count": 3,
   "metadata": {},
   "outputs": [
    {
     "name": "stdout",
     "output_type": "stream",
     "text": [
      "29904000.0\n",
      "2095000.0\n",
      "489.1\n",
      "444.0\n"
     ]
    }
   ],
   "source": [
    "import pybithumb as pb\n",
    "\n",
    "tickers = ['BTC', 'ETH', 'XRP', 'ADA']\n",
    "\n",
    "for ticker in tickers:\n",
    "    price = pb.get_current_price(ticker)\n",
    "    print(price)"
   ]
  },
  {
   "cell_type": "code",
   "execution_count": 1,
   "metadata": {},
   "outputs": [
    {
     "data": {
      "text/plain": [
       "0"
      ]
     },
     "execution_count": 1,
     "metadata": {},
     "output_type": "execute_result"
    }
   ],
   "source": [
    "# 코인 가격 조회 앱 (단순버전)\n",
    "\n",
    "# 윈도우 기본창 띄우기 \n",
    "\n",
    "import sys\n",
    "from PyQt5.QtWidgets import *\n",
    "from PyQt5 import uic\n",
    "from bs4 import BeautifulSoup as bs\n",
    "import pybithumb as pb\n",
    "\n",
    "form_class = uic.loadUiType(\"coin.ui\")[0]\n",
    "\n",
    "class MyWindow(QMainWindow, form_class):\n",
    "\n",
    "    def __init__(self):\n",
    "        super().__init__()\n",
    "        self.setupUi(self)\n",
    "        \n",
    "        # 단추를 누르면\n",
    "        self.pushButton.clicked.connect(self.btnclicked)\n",
    "\n",
    "\n",
    "        # 조회 후 칸에 출력\n",
    "    def btnclicked(self):\n",
    "        \n",
    "        price1 = pb.get_current_price(\"BTC\")\n",
    "        self.lineEdit_1.setText((str)(price1))\n",
    "\n",
    "        price2 = pb.get_current_price(\"ETH\")\n",
    "        self.lineEdit_2.setText((str)(price2))\n",
    "\n",
    "        price3 = pb.get_current_price(\"XRP\")\n",
    "        self.lineEdit_3.setText((str)(price3))\n",
    "\n",
    "        price4 = pb.get_current_price(\"ADA\")\n",
    "        self.lineEdit_4.setText((str)(price4))\n",
    "\n",
    "    \n",
    "\n",
    "   \n",
    "app = QApplication(sys.argv)\n",
    "window = MyWindow()\n",
    "window.show()\n",
    "app.exec_()"
   ]
  },
  {
   "cell_type": "code",
   "execution_count": 2,
   "metadata": {},
   "outputs": [
    {
     "ename": "",
     "evalue": "",
     "output_type": "error",
     "traceback": [
      "\u001b[1;31mCanceled future for execute_request message before replies were done"
     ]
    },
    {
     "ename": "",
     "evalue": "",
     "output_type": "error",
     "traceback": [
      "\u001b[1;31mThe Kernel crashed while executing code in the the current cell or a previous cell. Please review the code in the cell(s) to identify a possible cause of the failure. Click <a href='https://aka.ms/vscodeJupyterKernelCrash'>here</a> for more info. View Jupyter <a href='command:jupyter.viewOutput'>log</a> for further details."
     ]
    }
   ],
   "source": [
    "# 코인 가격 조회 앱 (TableWidget 버전)\n",
    "\n",
    "# 윈도우 기본창 띄우기 \n",
    "\n",
    "import sys\n",
    "from PyQt5.QtWidgets import *\n",
    "from PyQt5 import uic\n",
    "import requests\n",
    "from bs4 import BeautifulSoup as bs\n",
    "import pybithumb as pb\n",
    "\n",
    "form_class = uic.loadUiType(\"coinwidget.ui\")[0]\n",
    "\n",
    "class MyWindow(QMainWindow, form_class):\n",
    "\n",
    "    def __init__(self):\n",
    "        super().__init__()\n",
    "        self.setupUi(self)\n",
    "        \n",
    "        # 단추를 누르면\n",
    "        self.pushButton.clicked.connect(self.btnclicked)\n",
    "\n",
    "\n",
    "        # 조회 후 칸에 출력\n",
    "    def btnclicked(self):\n",
    "        \n",
    "        tickers = ['BTC', 'ETH', 'XRP', 'ADA']\n",
    "\n",
    "        for i, ticker in enumerate(tickers):\n",
    "            price = pb.get_current_price(ticker)\n",
    "            self.tableWidget.setItem(i, 0, QTableWidgetItem(ticker))\n",
    "            self.tableWidget.setItem(i, 1, QTableWidgetItem(str(price)))\n",
    "    \n",
    "\n",
    "   \n",
    "app = QApplication(sys.argv)\n",
    "window = MyWindow()\n",
    "window.show()\n",
    "app.exec_()"
   ]
  },
  {
   "cell_type": "code",
   "execution_count": 1,
   "metadata": {},
   "outputs": [
    {
     "data": {
      "text/plain": [
       "0"
      ]
     },
     "execution_count": 1,
     "metadata": {},
     "output_type": "execute_result"
    }
   ],
   "source": [
    "# 벅스 음원 차트 조회 앱(내가 한 것)\n",
    "\n",
    "# 윈도우 기본창 띄우기 \n",
    "\n",
    "import sys\n",
    "from PyQt5.QtWidgets import *\n",
    "from PyQt5 import uic\n",
    "import requests\n",
    "from bs4 import BeautifulSoup as bs\n",
    "\n",
    "form_class = uic.loadUiType(\"bugs.ui\")[0]\n",
    "\n",
    "class MyWindow(QMainWindow, form_class):\n",
    "\n",
    "    def __init__(self):\n",
    "        super().__init__()\n",
    "        self.setupUi(self)\n",
    "        \n",
    "        # 단추를 누르면\n",
    "        self.pushButton.clicked.connect(self.btnclicked)\n",
    "\n",
    "\n",
    "        # 조회 후 칸에 출력\n",
    "    def btnclicked(self):\n",
    "        \n",
    "        txt = requests.get(\"https://music.bugs.co.kr/chart\")\n",
    "        html = bs(txt.text)\n",
    "\n",
    "        songs = html.select('table.byChart > tbody > tr')\n",
    "        song = songs[0]\n",
    "        rank = 1\n",
    "                               \n",
    "        for i, song in enumerate(songs):\n",
    "                \n",
    "            title = song.select('p.title > a')[0].text\n",
    "            singer = song.select('p.artist > a')[0].text   \n",
    "            self.tableWidget.setItem(i, 0, QTableWidgetItem('Bugs'))\n",
    "            self.tableWidget.setItem(i, 1, QTableWidgetItem(str(rank)))\n",
    "            self.tableWidget.setItem(i, 2, QTableWidgetItem(title))\n",
    "            self.tableWidget.setItem(i, 3, QTableWidgetItem(singer))\n",
    "            rank += 1 \n",
    "   \n",
    "app = QApplication(sys.argv)\n",
    "window = MyWindow()\n",
    "window.show()\n",
    "app.exec_()"
   ]
  },
  {
   "cell_type": "code",
   "execution_count": 2,
   "metadata": {},
   "outputs": [
    {
     "ename": "",
     "evalue": "",
     "output_type": "error",
     "traceback": [
      "\u001b[1;31mCanceled future for execute_request message before replies were done"
     ]
    },
    {
     "ename": "",
     "evalue": "",
     "output_type": "error",
     "traceback": [
      "\u001b[1;31mThe Kernel crashed while executing code in the the current cell or a previous cell. Please review the code in the cell(s) to identify a possible cause of the failure. Click <a href='https://aka.ms/vscodeJupyterKernelCrash'>here</a> for more info. View Jupyter <a href='command:jupyter.viewOutput'>log</a> for further details."
     ]
    }
   ],
   "source": [
    "# 벅스 음원 차트 조회 앱 (강사님이랑 같이)\n",
    "\n",
    "# 윈도우 기본창 띄우기 \n",
    "\n",
    "import sys\n",
    "from PyQt5.QtWidgets import *\n",
    "from PyQt5 import uic\n",
    "import requests\n",
    "from bs4 import BeautifulSoup as bs\n",
    "\n",
    "form_class = uic.loadUiType(\"bugs2.ui\")[0]\n",
    "\n",
    "class MyWindow(QMainWindow, form_class):\n",
    "\n",
    "    def __init__(self):\n",
    "        super().__init__()\n",
    "        self.setupUi(self)\n",
    "        \n",
    "        # 단추를 누르면\n",
    "        self.pushButton.clicked.connect(self.btnclicked)\n",
    "\n",
    "\n",
    "        # 조회 후 칸에 출력\n",
    "    def btnclicked(self):\n",
    "        \n",
    "        url = \"https://music.bugs.co.kr/chart\"\n",
    "        txt = requests.get(url)\n",
    "        html = bs(txt.text)\n",
    "\n",
    "        songs = html.select('table.byChart > tbody > tr')\n",
    "                                  \n",
    "        for i, song in enumerate(songs):\n",
    "                \n",
    "            title = song.select('p.title > a')[0].text\n",
    "            singer = song.select('p.artist > a')[0].text   \n",
    "            self.tableWidget.setItem(i, 0, QTableWidgetItem('Bugs'))\n",
    "            self.tableWidget.setItem(i, 1, QTableWidgetItem(title))\n",
    "            self.tableWidget.setItem(i, 2, QTableWidgetItem(singer))\n",
    "            \n",
    "           \n",
    "   \n",
    "app = QApplication(sys.argv)\n",
    "window = MyWindow()\n",
    "window.show()\n",
    "app.exec_()"
   ]
  },
  {
   "cell_type": "code",
   "execution_count": 1,
   "metadata": {},
   "outputs": [
    {
     "data": {
      "text/plain": [
       "0"
      ]
     },
     "execution_count": 1,
     "metadata": {},
     "output_type": "execute_result"
    }
   ],
   "source": [
    "# 음원 차트 조회 앱\n",
    "\n",
    "# 윈도우 기본창 띄우기 \n",
    "\n",
    "import sys\n",
    "from PyQt5.QtWidgets import *\n",
    "from PyQt5 import uic\n",
    "import requests\n",
    "from bs4 import BeautifulSoup as bs\n",
    "from selenium import webdriver # 위에서 requests랑은 다른 것\n",
    "import time\n",
    "\n",
    "form_class = uic.loadUiType(\"musicchart.ui\")[0]\n",
    "\n",
    "class MyWindow(QMainWindow, form_class):\n",
    "\n",
    "    def __init__(self):\n",
    "        super().__init__()\n",
    "        self.setupUi(self)\n",
    "        \n",
    "        # 단추를 누르면\n",
    "        self.bugsButton.clicked.connect(self.bugsbtnclicked)\n",
    "        self.melonButton.clicked.connect(self.melonbtnclicked)\n",
    "        self.genieButton.clicked.connect(self.geniebtnclicked)\n",
    "\n",
    "\n",
    "        # 조회 후 칸에 출력\n",
    "# 벅스\n",
    "    def bugsbtnclicked(self):\n",
    "        \n",
    "        self.label.setText(\"Bugs 차트 100\")\n",
    "        self.tableWidget.clear()\n",
    "\n",
    "        url = \"https://music.bugs.co.kr/chart\"\n",
    "        txt = requests.get(url)\n",
    "        html = bs(txt.text)\n",
    "\n",
    "        songs = html.select('table.byChart > tbody > tr')\n",
    "                                  \n",
    "        for i, song in enumerate(songs):\n",
    "                \n",
    "            title = song.select('p.title > a')[0].text\n",
    "            singer = song.select('p.artist > a')[0].text   \n",
    "            self.tableWidget.setItem(i, 0, QTableWidgetItem('Bugs'))\n",
    "            self.tableWidget.setItem(i, 1, QTableWidgetItem(title))\n",
    "            self.tableWidget.setItem(i, 2, QTableWidgetItem(singer))\n",
    "\n",
    "# 멜론\n",
    "    def melonbtnclicked(self):\n",
    "        \n",
    "        self.label.setText(\"Melon 차트 100\")\n",
    "        self.tableWidget.clear()\n",
    "\n",
    "        driver = webdriver.Chrome('chromedriver.exe')\n",
    "        driver.get(\"https://www.melon.com/chart/\")\n",
    "\n",
    "        txt = driver.page_source\n",
    "        html = bs(txt)\n",
    "\n",
    "        songs = html.select('tbody > tr')\n",
    "                                  \n",
    "        for i, song in enumerate(songs):\n",
    "                \n",
    "            title = song.select('.rank01 > span > a')[0].text\n",
    "            singer = song.select('.rank02 > span > a')[0].text\n",
    "            self.tableWidget.setItem(i, 0, QTableWidgetItem('Melon'))\n",
    "            self.tableWidget.setItem(i, 1, QTableWidgetItem(title))\n",
    "            self.tableWidget.setItem(i, 2, QTableWidgetItem(singer))\n",
    "\n",
    "# 지니\n",
    "    def geniebtnclicked(self):\n",
    "        \n",
    "        self.label.setText(\"Genie 차트 100\")\n",
    "        self.tableWidget.clear()\n",
    "\n",
    "        driver = webdriver.Chrome('chromedriver.exe')\n",
    "        url = \"https://www.genie.co.kr/chart/top200\"\n",
    "        driver.get(url)\n",
    "\n",
    "        txt = driver.page_source\n",
    "        html = bs(txt)\n",
    "\n",
    "        songs = html.select('tbody > tr')\n",
    "                                  \n",
    "        for i, song in enumerate(songs):\n",
    "                \n",
    "            title = song.select('a.title')[0].text.strip()\n",
    "            singer = song.select('a.artist')[0].text.strip() \n",
    "            self.tableWidget.setItem(i, 0, QTableWidgetItem('Genie'))\n",
    "            self.tableWidget.setItem(i, 1, QTableWidgetItem(title))\n",
    "            self.tableWidget.setItem(i, 2, QTableWidgetItem(singer))\n",
    "\n",
    "        time.sleep(1)\n",
    "        url = 'https://www.genie.co.kr/chart/top200?ditc=D&ymd=20230228&hh=14&rtm=Y&pg=2'\n",
    "        driver.get(url)\n",
    "\n",
    "        txt = driver.page_source      # 이때 읽어온 데이터는 그냥 글자\n",
    "        html = bs(txt)\n",
    "\n",
    "        songs = html.select('tbody > tr')\n",
    "        \n",
    "        for i, song in enumerate(songs):\n",
    "                \n",
    "            title = song.select('a.title')[0].text.strip()\n",
    "            singer = song.select('a.artist')[0].text.strip() \n",
    "            self.tableWidget.setItem(i+50, 0, QTableWidgetItem('Genie'))\n",
    "            self.tableWidget.setItem(i+50, 1, QTableWidgetItem(title))\n",
    "            self.tableWidget.setItem(i+50, 2, QTableWidgetItem(singer))\n",
    "           \n",
    "   \n",
    "app = QApplication(sys.argv)\n",
    "window = MyWindow()\n",
    "window.show()\n",
    "app.exec_()"
   ]
  }
 ],
 "metadata": {
  "kernelspec": {
   "display_name": "Python 3",
   "language": "python",
   "name": "python3"
  },
  "language_info": {
   "codemirror_mode": {
    "name": "ipython",
    "version": 3
   },
   "file_extension": ".py",
   "mimetype": "text/x-python",
   "name": "python",
   "nbconvert_exporter": "python",
   "pygments_lexer": "ipython3",
   "version": "3.11.1"
  },
  "orig_nbformat": 4
 },
 "nbformat": 4,
 "nbformat_minor": 2
}
